{
 "cells": [
  {
   "cell_type": "markdown",
   "metadata": {},
   "source": [
    "### Черновик – Telegram\n",
    "\n",
    "Алгоритм обработки:\n",
    "- Разархивирование данных во временный программный каталог\n",
    "- Анализ данных на соответствие заданным шаблонам\n",
    "- Приведение данных к единому формату:\n",
    "    - Форматирование представления истории: (исходный тип результирующих данных при экспорте) .json -> .txt,\n",
    "    - Перемещение файлов из подкаталогов (photos, stickers, video_files, ...) в корень, реиндексация файлов\n",
    "- Перемещение файлов в итоговую папку, архивация данных, перемещение в текущую директорию выполнения скрипта\n",
    "- Удаление временного программного каталога\n",
    "\n",
    "Поддержка логирования, обработки исключений, аргументов выполнения"
   ]
  },
  {
   "cell_type": "code",
   "execution_count": 2,
   "metadata": {},
   "outputs": [],
   "source": [
    "import os\n",
    "import json\n",
    "import pandas as pd\n",
    "\n",
    "PATH = '/home/dsp_shp/teletransfer/.chat_actual_tg/'"
   ]
  },
  {
   "cell_type": "code",
   "execution_count": 3,
   "metadata": {},
   "outputs": [],
   "source": [
    "df = pd.read_json(os.path.join(PATH, 'result.json'))"
   ]
  },
  {
   "cell_type": "code",
   "execution_count": 5,
   "metadata": {},
   "outputs": [
    {
     "data": {
      "text/plain": [
       "{'id': 105495,\n",
       " 'type': 'message',\n",
       " 'date': '2020-10-04T00:00:46',\n",
       " 'date_unixtime': '1601748046',\n",
       " 'from': 'Миша',\n",
       " 'from_id': 'user1154968229',\n",
       " 'text': 'Go kex?',\n",
       " 'text_entities': [{'type': 'plain', 'text': 'Go kex?'}]}"
      ]
     },
     "execution_count": 5,
     "metadata": {},
     "output_type": "execute_result"
    }
   ],
   "source": [
    "df['messages'][1]"
   ]
  },
  {
   "cell_type": "code",
   "execution_count": null,
   "metadata": {},
   "outputs": [],
   "source": []
  }
 ],
 "metadata": {
  "kernelspec": {
   "display_name": "Python 3.8.10 64-bit",
   "language": "python",
   "name": "python3"
  },
  "language_info": {
   "codemirror_mode": {
    "name": "ipython",
    "version": 3
   },
   "file_extension": ".py",
   "mimetype": "text/x-python",
   "name": "python",
   "nbconvert_exporter": "python",
   "pygments_lexer": "ipython3",
   "version": "3.8.10"
  },
  "orig_nbformat": 4,
  "vscode": {
   "interpreter": {
    "hash": "31f2aee4e71d21fbe5cf8b01ff0e069b9275f58929596ceb00d14d90e3e16cd6"
   }
  }
 },
 "nbformat": 4,
 "nbformat_minor": 2
}
